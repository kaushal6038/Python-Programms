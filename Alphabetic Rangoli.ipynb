{
 "cells": [
  {
   "cell_type": "code",
   "execution_count": 1,
   "metadata": {},
   "outputs": [],
   "source": [
    "# Importing String Library\n",
    "import string\n",
    "\n",
    "# Creating a String with Lower Case Alphabets\n",
    "alpha = string.ascii_lowercase"
   ]
  },
  {
   "cell_type": "code",
   "execution_count": 2,
   "metadata": {},
   "outputs": [],
   "source": [
    "# Defining the function with n for integer input\n",
    "def print_rangoli(n):\n",
    "    L = []                                              # Creating a empty List\n",
    "    for i in range(n):                                  \n",
    "        s = \"-\".join(alpha[i:n])                        # editing '-' in between lowercase string\n",
    "        L.append((s[::-1]+s[1:]).center(4*n-3, \"-\"))    # reversing and appending before the string\n",
    "    print('\\n'.join(L[:0:-1]+L))"
   ]
  },
  {
   "cell_type": "code",
   "execution_count": 3,
   "metadata": {},
   "outputs": [
    {
     "name": "stdout",
     "output_type": "stream",
     "text": [
      "----c----\n",
      "--c-b-c--\n",
      "c-b-a-b-c\n",
      "--c-b-c--\n",
      "----c----\n"
     ]
    }
   ],
   "source": [
    "print_rangoli(3)"
   ]
  },
  {
   "cell_type": "code",
   "execution_count": 4,
   "metadata": {},
   "outputs": [
    {
     "name": "stdout",
     "output_type": "stream",
     "text": [
      "------------g------------\n",
      "----------g-f-g----------\n",
      "--------g-f-e-f-g--------\n",
      "------g-f-e-d-e-f-g------\n",
      "----g-f-e-d-c-d-e-f-g----\n",
      "--g-f-e-d-c-b-c-d-e-f-g--\n",
      "g-f-e-d-c-b-a-b-c-d-e-f-g\n",
      "--g-f-e-d-c-b-c-d-e-f-g--\n",
      "----g-f-e-d-c-d-e-f-g----\n",
      "------g-f-e-d-e-f-g------\n",
      "--------g-f-e-f-g--------\n",
      "----------g-f-g----------\n",
      "------------g------------\n"
     ]
    }
   ],
   "source": [
    "print_rangoli(7)"
   ]
  },
  {
   "cell_type": "code",
   "execution_count": null,
   "metadata": {},
   "outputs": [],
   "source": []
  }
 ],
 "metadata": {
  "kernelspec": {
   "display_name": "Python 3",
   "language": "python",
   "name": "python3"
  },
  "language_info": {
   "codemirror_mode": {
    "name": "ipython",
    "version": 3
   },
   "file_extension": ".py",
   "mimetype": "text/x-python",
   "name": "python",
   "nbconvert_exporter": "python",
   "pygments_lexer": "ipython3",
   "version": "3.6.5"
  }
 },
 "nbformat": 4,
 "nbformat_minor": 2
}
